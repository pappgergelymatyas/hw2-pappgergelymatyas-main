{
 "cells": [
  {
   "cell_type": "markdown",
   "id": "409c33ed",
   "metadata": {},
   "source": [
    "# Python Basics\n",
    "\n",
    "### 1 . Indentation\n",
    "Python uses indentation (spaces or tabs) to define the structure of your code. Indentation is crucial because it tells Python which blocks of code belong together. \n",
    "In Python, you’ll usually use 4 spaces per indentation level or tabs (consistency is key).\n",
    "\n"
   ]
  },
  {
   "cell_type": "code",
   "execution_count": null,
   "id": "527e3e57",
   "metadata": {},
   "outputs": [],
   "source": [
    "print(\"Hello, world!\")"
   ]
  },
  {
   "cell_type": "markdown",
   "id": "428fceb5",
   "metadata": {},
   "source": [
    "The `print()` function in Python is one of the first things you will use when writing code. It’s a simple and powerful way to show output on the screen, whether it’s text, numbers, or other values. You can think of it as a command that tells the computer, \"show this on the screen.\""
   ]
  },
  {
   "cell_type": "markdown",
   "id": "98459c1e",
   "metadata": {},
   "source": [
    "\n",
    "## 2. Variable Assignment in Python\n",
    "\n",
    "In Python, you assign values to variables using the `=` operator. The variable name goes on the left, and the value goes on the right.\n",
    "\n",
    "Variables can hold different types of values, such as strings, integers, and floats.\n",
    "\n",
    "### Variable Naming\n",
    "In Python, variable names must follow certain rules:\n",
    "- Variable names must begin with a letter or an underscore (`_`), not a number.\n",
    "- They can only contain alphanumeric characters and underscores.\n",
    "- Variable names are case-sensitive (`stormlight` and `Stormlight` are different).\n",
    "- The recommended naming convention is **snake_case**, which uses lowercase letters and underscores to separate words.\n",
    "\n",
    "Good variable names should be descriptive to make the code easy to understand."
   ]
  },
  {
   "cell_type": "code",
   "execution_count": null,
   "id": "7e4159a5",
   "metadata": {},
   "outputs": [],
   "source": [
    "x = True\n",
    "stormlight_reserve = 100\n",
    "shardblade = \"Oathbringer\"\n",
    "mistborn = \"Vin\""
   ]
  },
  {
   "cell_type": "markdown",
   "id": "40a991dc",
   "metadata": {},
   "source": [
    "## 3. Data Types\n",
    "\n",
    "In Python, data types are essential to understanding how variables and values are stored and manipulated. Here’s a guide to four basic Python data types: **strings**, **integers**, **floats**, and **booleans**. Plus lists."
   ]
  },
  {
   "cell_type": "markdown",
   "id": "c81f2a89",
   "metadata": {},
   "source": [
    "### 3.1. String  (`str`)\n",
    "\n",
    "A **string** is a sequence of characters enclosed in single (`'`), double (`\"`), or triple quotes (`'''` or `\"\"\"`). Strings are **immutable**, meaning their content cannot be changed once created."
   ]
  },
  {
   "cell_type": "code",
   "execution_count": 4,
   "id": "a4abbe65",
   "metadata": {},
   "outputs": [],
   "source": [
    "# Single, double, or triple quotes\n",
    "single_quoted = \"Hello\"\n",
    "double_quoted = \"World\"\n",
    "multi_line = \"\"\"This is \n",
    "a multi-line \n",
    "string.\"\"\"\n",
    "\n",
    "# Empty string\n",
    "empty_string = \"\""
   ]
  },
  {
   "cell_type": "markdown",
   "id": "47eb335e",
   "metadata": {},
   "source": [
    "String Operations\n",
    "\n",
    "- Concatenation: Combine two strings using +.\n",
    "- Repetition: Repeat a string using *."
   ]
  },
  {
   "cell_type": "code",
   "execution_count": null,
   "id": "bd819f58",
   "metadata": {},
   "outputs": [],
   "source": [
    "# Concatenation\n",
    "greeting = \"Hello\" + \" \" + \"World\"\n",
    "print(greeting)  # Output: \"Hello World\"\n",
    "\n",
    "# Repetition\n",
    "repeated = \"Ha\" * 3\n",
    "print(repeated)  # Output: \"HaHaHa\""
   ]
  },
  {
   "cell_type": "markdown",
   "id": "3757ec8b",
   "metadata": {},
   "source": [
    "Accessing Characters in a String\n",
    "\n",
    "You can access characters in a string using indexing (starting from 0)."
   ]
  },
  {
   "cell_type": "code",
   "execution_count": null,
   "id": "edc856f6",
   "metadata": {},
   "outputs": [],
   "source": [
    "greeting = \"Hello\"\n",
    "print(greeting[0])  # Output: 'H'\n",
    "print(greeting[-1])  # Output: 'o' (negative indexing)"
   ]
  },
  {
   "cell_type": "markdown",
   "id": "904894b1",
   "metadata": {},
   "source": [
    "Slicing Strings\n",
    "\n",
    "You can slice a string to get a substring."
   ]
  },
  {
   "cell_type": "code",
   "execution_count": null,
   "id": "439444e8",
   "metadata": {},
   "outputs": [],
   "source": [
    "greeting = \"Hello\"\n",
    "print(greeting[1:4])  # Output: 'ell' (from index 1 to 3)\n",
    "print(greeting[:3])  # Output: 'Hel' (from start to index 2)\n",
    "print(greeting[2:])  # Output: 'llo' (from index 2 to the end)"
   ]
  },
  {
   "cell_type": "markdown",
   "id": "898bb861",
   "metadata": {},
   "source": [
    "### 3.2 Integer `(int)`\n",
    "\n",
    "An integer is a whole number, positive or negative, without decimals. Integers are immutable in Python."
   ]
  },
  {
   "cell_type": "code",
   "execution_count": null,
   "id": "14ae22ad",
   "metadata": {},
   "outputs": [],
   "source": [
    "positive_num = 42\n",
    "negative_num = -10\n",
    "zero = 0"
   ]
  },
  {
   "cell_type": "markdown",
   "id": "d71c372f",
   "metadata": {},
   "source": [
    "### 3.3 Float `(float)`\n",
    "\n",
    "A float is a number that contains a decimal point. Floats are also immutable."
   ]
  },
  {
   "cell_type": "code",
   "execution_count": 7,
   "id": "e01522f5",
   "metadata": {},
   "outputs": [],
   "source": [
    "float_num = 3.14\n",
    "negative_float = -9.81\n",
    "zero_float = 0.0"
   ]
  },
  {
   "cell_type": "markdown",
   "id": "e544e84d",
   "metadata": {},
   "source": [
    "### 3.4 Booleans `(bool)`"
   ]
  },
  {
   "cell_type": "code",
   "execution_count": 8,
   "id": "81031b58",
   "metadata": {},
   "outputs": [],
   "source": [
    "is_sunny = True\n",
    "is_raining = False"
   ]
  },
  {
   "cell_type": "markdown",
   "id": "84999b2d",
   "metadata": {},
   "source": [
    "### 3.5 List `(list)`\n",
    "A list in Python is a mutable, ordered collection of elements, where elements can be of any type (integers, strings, other lists, etc.). Lists are one of the most commonly used data structures in Python.\n",
    "\n",
    "You can create a list by placing all the elements inside square brackets `[]`, separated by commas."
   ]
  },
  {
   "cell_type": "code",
   "execution_count": null,
   "id": "3f480522",
   "metadata": {},
   "outputs": [],
   "source": [
    "# Example of an empty list\n",
    "empty_list = []\n",
    "\n",
    "# List with elements\n",
    "numbers = [1, 2, 3, 4, 5]\n",
    "print(numbers)\n",
    "\n",
    "# Mixed data types\n",
    "mixed_list = [1, \"Hello\", 3.14, True]\n",
    "print(mixed_list)"
   ]
  },
  {
   "cell_type": "markdown",
   "id": "ec67d4ce",
   "metadata": {},
   "source": [
    "You can access elements in a list by their **index**. Python lists are **zero-indexed**, meaning the first element is at index 0."
   ]
  },
  {
   "cell_type": "code",
   "execution_count": null,
   "id": "e43fe951",
   "metadata": {},
   "outputs": [],
   "source": [
    "numbers = [1, 2, 3, 4, 5]\n",
    "\n",
    "# Access the first element\n",
    "print(numbers[0])  # Output: 1\n",
    "\n",
    "# Access the last element\n",
    "print(numbers[-1])  # Output: 5 (Negative indexing starts from the end)"
   ]
  },
  {
   "cell_type": "markdown",
   "id": "157001b6",
   "metadata": {},
   "source": [
    "Lists in Python are mutable, meaning you can change their content."
   ]
  },
  {
   "cell_type": "code",
   "execution_count": null,
   "id": "c2e2d27b",
   "metadata": {},
   "outputs": [],
   "source": [
    "numbers = [1, 2, 3, 4, 5]\n",
    "\n",
    "# Changing the second element\n",
    "numbers[1] = 10\n",
    "print(numbers)  # Output: [1, 10, 3, 4, 5]"
   ]
  },
  {
   "cell_type": "markdown",
   "id": "921f6fae",
   "metadata": {},
   "source": [
    "You can retrieve a subset of a list using slicing. The general syntax is `list[start:end]`."
   ]
  },
  {
   "cell_type": "code",
   "execution_count": null,
   "id": "c02acb7b",
   "metadata": {},
   "outputs": [],
   "source": [
    "numbers = [0, 1, 2, 3, 4, 5, 6]\n",
    "\n",
    "# Slice elements from index 2 to 4 (end index is exclusive)\n",
    "subset = numbers[2:5]\n",
    "print(subset)  # Output: [2, 3, 4]\n",
    "\n",
    "# Slice elements from the beginning to index 3\n",
    "print(numbers[:4])  # Output: [0, 1, 2, 3]\n",
    "\n",
    "# Slice elements from index 3 to the end\n",
    "print(numbers[3:])  # Output: [3, 4, 5, 6]"
   ]
  },
  {
   "cell_type": "markdown",
   "id": "16d5d658",
   "metadata": {},
   "source": [
    "## 4. Basic Operators and Data Types\n",
    "\n",
    "Python supports several types of operators, such as arithmetic and logical operators. Here are some of the most common ones:\n",
    "\n",
    "### Arithmetic Operators:\n",
    "- **Addition** (`+`): Adds two values.\n",
    "- **Subtraction** (`-`): Subtracts the second value from the first.\n",
    "- **Multiplication** (`*`): Multiplies two values.\n",
    "- **Division** (`/`): Divides the first value by the second.\n",
    "- **Floor Division** (`//`): Divides and returns the largest integer.\n",
    "- **Modulo** (`%`): Returns the remainder of a division.\n",
    "- **Exponentiation** (`**`): Raises the first value to the power of the second."
   ]
  },
  {
   "cell_type": "code",
   "execution_count": null,
   "id": "27eb86be",
   "metadata": {},
   "outputs": [],
   "source": [
    "stormlight = 100\n",
    "used_stormlight = 30\n",
    "remaining_stormlight = stormlight - used_stormlight\n",
    "print(remaining_stormlight) "
   ]
  },
  {
   "cell_type": "code",
   "execution_count": null,
   "id": "0af00e69",
   "metadata": {},
   "outputs": [],
   "source": [
    "atium = 10\n",
    "remaining_atium = atium % 3\n",
    "print(remaining_atium)"
   ]
  },
  {
   "cell_type": "code",
   "execution_count": null,
   "id": "cbca3fc5",
   "metadata": {},
   "outputs": [],
   "source": [
    "radiant_order = \"Windrunner\"\n",
    "character = 'Kaladin'\n",
    "full_title = radiant_order + \" \" + character\n",
    "print(full_title)"
   ]
  },
  {
   "cell_type": "code",
   "execution_count": null,
   "id": "26e38571",
   "metadata": {},
   "outputs": [],
   "source": [
    "print(radiant_order * 5) "
   ]
  },
  {
   "cell_type": "markdown",
   "id": "5613cc45",
   "metadata": {},
   "source": [
    "## 5. Logical Operators and Comparison Operators\n",
    "\n",
    "Comparison Operators: `==`, `!=`, `>`, `<`, `>=`, `<=`.\n",
    "\n",
    "\n",
    "Logical operators allow you to combine conditions. The three main logical operators are:\n",
    "- **and**: Returns `True` if both conditions are true.\n",
    "- **or**: Returns `True` if at least one condition is true.\n",
    "- **not**: Reverses the truth value.\n",
    "\n",
    "Logical operators are frequently used in control structures to handle complex decision-making.\n"
   ]
  },
  {
   "cell_type": "code",
   "execution_count": null,
   "id": "e8bea9c6",
   "metadata": {},
   "outputs": [],
   "source": [
    "is_knight_radiant = True\n",
    "is_lighteyes = False\n",
    "print(is_knight_radiant and is_lighteyes) "
   ]
  },
  {
   "cell_type": "code",
   "execution_count": null,
   "id": "bae4b48c",
   "metadata": {},
   "outputs": [],
   "source": [
    "print(is_knight_radiant or is_lighteyes)"
   ]
  },
  {
   "cell_type": "code",
   "execution_count": null,
   "id": "8eca8a23",
   "metadata": {},
   "outputs": [],
   "source": [
    "print(not is_knight_radiant)"
   ]
  },
  {
   "cell_type": "markdown",
   "id": "4b8cebf6",
   "metadata": {},
   "source": [
    "## 6. Control Structures\n",
    "### 6.1 If Statements\n",
    "\n",
    "An `if` statement allows you to run a block of code based on whether a condition is true.\n"
   ]
  },
  {
   "cell_type": "code",
   "execution_count": null,
   "id": "6cc321eb",
   "metadata": {},
   "outputs": [],
   "source": [
    "### Example with just an `if` statement:\n",
    "stormlight = 80\n",
    "if stormlight > 50:\n",
    "    print(\"Got it!\")"
   ]
  },
  {
   "cell_type": "code",
   "execution_count": null,
   "id": "3c1d0b95",
   "metadata": {},
   "outputs": [],
   "source": [
    "### Example with `if` and `else`:\n",
    "stormlight = 30\n",
    "if stormlight > 50:\n",
    "    print(\"Got it!\")\n",
    "else:\n",
    "    print(\"Needs to recharge!\")"
   ]
  },
  {
   "cell_type": "code",
   "execution_count": null,
   "id": "088b5bf3",
   "metadata": {},
   "outputs": [],
   "source": [
    "### Example with `if`, `elif`, and `else`:\n",
    "stormlight = 40\n",
    "if stormlight > 70:\n",
    "    print(\"Fully charged!\")\n",
    "elif stormlight > 50:\n",
    "    print(\"Enough.\")\n",
    "else:\n",
    "    print(\"Needs more!\")"
   ]
  },
  {
   "cell_type": "code",
   "execution_count": null,
   "id": "418ce0d7",
   "metadata": {},
   "outputs": [],
   "source": [
    "### Two separate `if` statements:\n",
    "stormlight = 60\n",
    "if stormlight > 50:\n",
    "    print(\"Got it!\")\n",
    "if stormlight < 20:\n",
    "    print(\"Needs to recharge!\")"
   ]
  },
  {
   "cell_type": "code",
   "execution_count": null,
   "id": "3487571b",
   "metadata": {},
   "outputs": [],
   "source": [
    "###You can combine them into one `if-elif-else` statement:\n",
    "if stormlight > 50:\n",
    "    print(\"Got it!\")\n",
    "elif stormlight < 20:\n",
    "    print(\"Mehh!\")\n",
    "else:\n",
    "    print(\"Nothing left\")"
   ]
  },
  {
   "cell_type": "markdown",
   "id": "a6425fd2",
   "metadata": {},
   "source": [
    "### 6.2 For Loops\n",
    "A `for` loop is used to iterate over an **iterable object**, such as a list or a string. This means you can loop over each element in a collection one by one."
   ]
  },
  {
   "cell_type": "code",
   "execution_count": null,
   "id": "c0dfc228",
   "metadata": {},
   "outputs": [],
   "source": [
    "radiants = [\"Kaladin\", \"Shallan\", \"Dalinar\"]\n",
    "for radiant in radiants:\n",
    "    print(radiant)"
   ]
  },
  {
   "cell_type": "code",
   "execution_count": null,
   "id": "9457c571",
   "metadata": {},
   "outputs": [],
   "source": [
    "character_name = \"Kaladin\"\n",
    "for letter in character_name:\n",
    "    print(letter)"
   ]
  },
  {
   "cell_type": "markdown",
   "id": "06852319",
   "metadata": {},
   "source": [
    "### Using `range()` with For Loops\n",
    "The `range()` function generates a sequence of numbers and is often used in `for` loops. Unlike lists or strings, `range()` generates a **range object** rather than iterating over an existing collection."
   ]
  },
  {
   "cell_type": "code",
   "execution_count": null,
   "id": "13fa1ef2",
   "metadata": {},
   "outputs": [],
   "source": [
    "for i in range(5):\n",
    "    print(f\"Iteration {i}\")"
   ]
  },
  {
   "cell_type": "markdown",
   "id": "2ba9f15a",
   "metadata": {},
   "source": [
    "This loop will print the numbers from 0 to 4. The key difference with `range()` is that it doesn’t directly operate on an existing iterable, but creates a sequence of numbers to loop over."
   ]
  },
  {
   "cell_type": "markdown",
   "id": "457f182c",
   "metadata": {},
   "source": [
    "\n",
    "### 6.3 While Loops\n",
    "\n",
    "A `while` loop repeatedly executes a block of code as long as a given condition is true. It’s useful when you don’t know in advance how many times you need to loop.\n"
   ]
  },
  {
   "cell_type": "code",
   "execution_count": null,
   "id": "77893798",
   "metadata": {},
   "outputs": [],
   "source": [
    "stormlight = 10\n",
    "while stormlight > 0:\n",
    "    print(f\"Remaining: {stormlight}\")\n",
    "    stormlight -= 1\n",
    "# This loop will keep running until `stormlight` becomes 0."
   ]
  },
  {
   "cell_type": "code",
   "execution_count": null,
   "id": "c96bba9a",
   "metadata": {},
   "outputs": [],
   "source": [
    "stormlight = 15\n",
    "while stormlight > 10:\n",
    "    print(\"Still has plenty!\")\n",
    "    stormlight -= 1\n",
    "\n",
    "#The loop will stop when the condition `stormlight > 10` is no longer true."
   ]
  }
 ],
 "metadata": {
  "kernelspec": {
   "display_name": "Python 3",
   "language": "python",
   "name": "python3"
  },
  "language_info": {
   "codemirror_mode": {
    "name": "ipython",
    "version": 3
   },
   "file_extension": ".py",
   "mimetype": "text/x-python",
   "name": "python",
   "nbconvert_exporter": "python",
   "pygments_lexer": "ipython3",
   "version": "3.11.3"
  }
 },
 "nbformat": 4,
 "nbformat_minor": 5
}
